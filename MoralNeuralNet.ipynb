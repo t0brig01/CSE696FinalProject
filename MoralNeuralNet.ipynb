{
  "nbformat": 4,
  "nbformat_minor": 0,
  "metadata": {
    "colab": {
      "name": "MoralNeuralNet.ipynb",
      "provenance": [],
      "authorship_tag": "ABX9TyOnErtYeX3ODOA4YG328HZN",
      "include_colab_link": true
    },
    "kernelspec": {
      "name": "python3",
      "display_name": "Python 3"
    }
  },
  "cells": [
    {
      "cell_type": "markdown",
      "metadata": {
        "id": "view-in-github",
        "colab_type": "text"
      },
      "source": [
        "<a href=\"https://colab.research.google.com/github/t0brig01/CSE696FinalProject/blob/main/MoralNeuralNet.ipynb\" target=\"_parent\"><img src=\"https://colab.research.google.com/assets/colab-badge.svg\" alt=\"Open In Colab\"/></a>"
      ]
    },
    {
      "cell_type": "code",
      "metadata": {
        "colab": {
          "base_uri": "https://localhost:8080/"
        },
        "id": "8zrLBI6pAHL1",
        "outputId": "6bf2da82-00a2-47df-db3e-c4134033d8ea"
      },
      "source": [
        "%tensorflow_version 1.x\r\n",
        "import tensorflow as tf\r\n",
        "import numpy as np\r\n",
        "import pandas as pd\r\n",
        "from pandas import concat\r\n",
        "from sklearn import preprocessing\r\n",
        "print (\"TensorFlow version: \" + tf.__version__)"
      ],
      "execution_count": 1,
      "outputs": [
        {
          "output_type": "stream",
          "text": [
            "TensorFlow 1.x selected.\n",
            "TensorFlow version: 1.15.2\n"
          ],
          "name": "stdout"
        }
      ]
    },
    {
      "cell_type": "markdown",
      "metadata": {
        "id": "DZVH15Vu1R88"
      },
      "source": [
        "# **Data Loading/Manipulation**"
      ]
    },
    {
      "cell_type": "code",
      "metadata": {
        "id": "9yfK1H0OvFez"
      },
      "source": [
        "df = pd.read_csv(\"https://raw.githubusercontent.com/t0brig01/CSE696FinalProject/main/TrolleyData.csv\")"
      ],
      "execution_count": 3,
      "outputs": []
    },
    {
      "cell_type": "code",
      "metadata": {
        "id": "SnZjiIHOveFM",
        "outputId": "38c8c081-c4c9-44f0-e808-7699ee178bea",
        "colab": {
          "base_uri": "https://localhost:8080/"
        }
      },
      "source": [
        "df.info()"
      ],
      "execution_count": 4,
      "outputs": [
        {
          "output_type": "stream",
          "text": [
            "<class 'pandas.core.frame.DataFrame'>\n",
            "RangeIndex: 230475 entries, 0 to 230474\n",
            "Data columns (total 12 columns):\n",
            " #   Column          Non-Null Count   Dtype \n",
            "---  ------          --------------   ----- \n",
            " 0   _id             230475 non-null  object\n",
            " 1   Scenario        230475 non-null  object\n",
            " 2   UserID          230475 non-null  object\n",
            " 3   Outcome         230475 non-null  int64 \n",
            " 4   Session_id      230475 non-null  object\n",
            " 5   Scenario_order  230475 non-null  int64 \n",
            " 6   Template        230475 non-null  object\n",
            " 7   answerLeft      230475 non-null  bool  \n",
            " 8   lang            230475 non-null  object\n",
            " 9   seenOther       230475 non-null  bool  \n",
            " 10  country_code    229259 non-null  object\n",
            " 11  country_full    229259 non-null  object\n",
            "dtypes: bool(2), int64(2), object(8)\n",
            "memory usage: 18.0+ MB\n"
          ],
          "name": "stdout"
        }
      ]
    },
    {
      "cell_type": "code",
      "metadata": {
        "id": "8WgRLKBDvfEG",
        "outputId": "334c5256-256b-4f93-d821-d5eaa36c0033",
        "colab": {
          "base_uri": "https://localhost:8080/",
          "height": 204
        }
      },
      "source": [
        "df.head()"
      ],
      "execution_count": 5,
      "outputs": [
        {
          "output_type": "execute_result",
          "data": {
            "text/html": [
              "<div>\n",
              "<style scoped>\n",
              "    .dataframe tbody tr th:only-of-type {\n",
              "        vertical-align: middle;\n",
              "    }\n",
              "\n",
              "    .dataframe tbody tr th {\n",
              "        vertical-align: top;\n",
              "    }\n",
              "\n",
              "    .dataframe thead th {\n",
              "        text-align: right;\n",
              "    }\n",
              "</style>\n",
              "<table border=\"1\" class=\"dataframe\">\n",
              "  <thead>\n",
              "    <tr style=\"text-align: right;\">\n",
              "      <th></th>\n",
              "      <th>_id</th>\n",
              "      <th>Scenario</th>\n",
              "      <th>UserID</th>\n",
              "      <th>Outcome</th>\n",
              "      <th>Session_id</th>\n",
              "      <th>Scenario_order</th>\n",
              "      <th>Template</th>\n",
              "      <th>answerLeft</th>\n",
              "      <th>lang</th>\n",
              "      <th>seenOther</th>\n",
              "      <th>country_code</th>\n",
              "      <th>country_full</th>\n",
              "    </tr>\n",
              "  </thead>\n",
              "  <tbody>\n",
              "    <tr>\n",
              "      <th>0</th>\n",
              "      <td>C3RGCjGPftjMKYHy2</td>\n",
              "      <td>Loop</td>\n",
              "      <td>0000dc12_9518522259818270</td>\n",
              "      <td>1</td>\n",
              "      <td>367585191-9.51852225982e+15</td>\n",
              "      <td>1</td>\n",
              "      <td>Desktop</td>\n",
              "      <td>False</td>\n",
              "      <td>de</td>\n",
              "      <td>True</td>\n",
              "      <td>DE</td>\n",
              "      <td>Germany</td>\n",
              "    </tr>\n",
              "    <tr>\n",
              "      <th>1</th>\n",
              "      <td>3F9SfDyofskDPna8R</td>\n",
              "      <td>Footbridge</td>\n",
              "      <td>0000dc12_9518522259818270</td>\n",
              "      <td>0</td>\n",
              "      <td>367585191-9.51852225982e+15</td>\n",
              "      <td>2</td>\n",
              "      <td>Desktop</td>\n",
              "      <td>False</td>\n",
              "      <td>de</td>\n",
              "      <td>True</td>\n",
              "      <td>DE</td>\n",
              "      <td>Germany</td>\n",
              "    </tr>\n",
              "    <tr>\n",
              "      <th>2</th>\n",
              "      <td>oz9anPbE6e52TKuJy</td>\n",
              "      <td>Switch</td>\n",
              "      <td>0000dc12_9518522259818270</td>\n",
              "      <td>1</td>\n",
              "      <td>367585191-9.51852225982e+15</td>\n",
              "      <td>3</td>\n",
              "      <td>Desktop</td>\n",
              "      <td>False</td>\n",
              "      <td>de</td>\n",
              "      <td>True</td>\n",
              "      <td>DE</td>\n",
              "      <td>Germany</td>\n",
              "    </tr>\n",
              "    <tr>\n",
              "      <th>3</th>\n",
              "      <td>dkAhBaLhzi62Pp6Hp</td>\n",
              "      <td>Footbridge</td>\n",
              "      <td>0002ae2d_2286850331484848</td>\n",
              "      <td>0</td>\n",
              "      <td>1654499857-2.28685033148e+15</td>\n",
              "      <td>1</td>\n",
              "      <td>Desktop</td>\n",
              "      <td>False</td>\n",
              "      <td>en</td>\n",
              "      <td>True</td>\n",
              "      <td>GB</td>\n",
              "      <td>United Kingdom</td>\n",
              "    </tr>\n",
              "    <tr>\n",
              "      <th>4</th>\n",
              "      <td>2ussgtw7vCZMNjxSJ</td>\n",
              "      <td>Switch</td>\n",
              "      <td>0002ae2d_2286850331484848</td>\n",
              "      <td>1</td>\n",
              "      <td>1654499857-2.28685033148e+15</td>\n",
              "      <td>2</td>\n",
              "      <td>Desktop</td>\n",
              "      <td>False</td>\n",
              "      <td>en</td>\n",
              "      <td>True</td>\n",
              "      <td>GB</td>\n",
              "      <td>United Kingdom</td>\n",
              "    </tr>\n",
              "  </tbody>\n",
              "</table>\n",
              "</div>"
            ],
            "text/plain": [
              "                 _id    Scenario  ... country_code    country_full\n",
              "0  C3RGCjGPftjMKYHy2        Loop  ...           DE         Germany\n",
              "1  3F9SfDyofskDPna8R  Footbridge  ...           DE         Germany\n",
              "2  oz9anPbE6e52TKuJy      Switch  ...           DE         Germany\n",
              "3  dkAhBaLhzi62Pp6Hp  Footbridge  ...           GB  United Kingdom\n",
              "4  2ussgtw7vCZMNjxSJ      Switch  ...           GB  United Kingdom\n",
              "\n",
              "[5 rows x 12 columns]"
            ]
          },
          "metadata": {
            "tags": []
          },
          "execution_count": 5
        }
      ]
    },
    {
      "cell_type": "code",
      "metadata": {
        "id": "9FviDtwHvwBn",
        "outputId": "9c5c55c1-3280-414f-ff40-df9872fba6c6",
        "colab": {
          "base_uri": "https://localhost:8080/",
          "height": 419
        }
      },
      "source": [
        "filtered = df.drop(['Session_id','Template','country_full','_id','answerLeft'], axis=1)\r\n",
        "filtered.dropna()\r\n",
        "filtered.replace('Loop',0,inplace=True)   #0 is loop trolley \r\n",
        "filtered.replace('Footbridge',1,inplace=True) #1 is footbridge trolley\r\n",
        "filtered.replace('Switch',2,inplace=True) #2 is standard trolley\r\n",
        "\r\n",
        "lang = dict()\r\n",
        "country = dict()\r\n",
        "iLang = 0\r\n",
        "iCountry = 0\r\n",
        "for index, x in filtered.iterrows():\r\n",
        "  if x[\"lang\"] not in lang.keys():\r\n",
        "    lang[x[\"lang\"]] = iLang\r\n",
        "    iLang = iLang + 1\r\n",
        "  if x[\"country_code\"] not in country.keys():\r\n",
        "    country[x[\"country_code\"]] = iCountry\r\n",
        "    iCountry = iCountry + 1\r\n",
        "for key, value in country.items():\r\n",
        "  filtered.replace(key,int(value),inplace=True)\r\n",
        "for key, value in lang.items():\r\n",
        "  filtered.replace(key,int(value),inplace=True)"
      ],
      "execution_count": 64,
      "outputs": [
        {
          "output_type": "execute_result",
          "data": {
            "text/html": [
              "<div>\n",
              "<style scoped>\n",
              "    .dataframe tbody tr th:only-of-type {\n",
              "        vertical-align: middle;\n",
              "    }\n",
              "\n",
              "    .dataframe tbody tr th {\n",
              "        vertical-align: top;\n",
              "    }\n",
              "\n",
              "    .dataframe thead th {\n",
              "        text-align: right;\n",
              "    }\n",
              "</style>\n",
              "<table border=\"1\" class=\"dataframe\">\n",
              "  <thead>\n",
              "    <tr style=\"text-align: right;\">\n",
              "      <th></th>\n",
              "      <th>Scenario</th>\n",
              "      <th>UserID</th>\n",
              "      <th>Outcome</th>\n",
              "      <th>Scenario_order</th>\n",
              "      <th>lang</th>\n",
              "      <th>seenOther</th>\n",
              "      <th>country_code</th>\n",
              "    </tr>\n",
              "  </thead>\n",
              "  <tbody>\n",
              "    <tr>\n",
              "      <th>0</th>\n",
              "      <td>0</td>\n",
              "      <td>0000dc12_9518522259818270</td>\n",
              "      <td>1</td>\n",
              "      <td>1</td>\n",
              "      <td>0</td>\n",
              "      <td>True</td>\n",
              "      <td>0</td>\n",
              "    </tr>\n",
              "    <tr>\n",
              "      <th>1</th>\n",
              "      <td>1</td>\n",
              "      <td>0000dc12_9518522259818270</td>\n",
              "      <td>0</td>\n",
              "      <td>2</td>\n",
              "      <td>0</td>\n",
              "      <td>True</td>\n",
              "      <td>0</td>\n",
              "    </tr>\n",
              "    <tr>\n",
              "      <th>2</th>\n",
              "      <td>2</td>\n",
              "      <td>0000dc12_9518522259818270</td>\n",
              "      <td>1</td>\n",
              "      <td>3</td>\n",
              "      <td>0</td>\n",
              "      <td>True</td>\n",
              "      <td>0</td>\n",
              "    </tr>\n",
              "    <tr>\n",
              "      <th>3</th>\n",
              "      <td>1</td>\n",
              "      <td>0002ae2d_2286850331484848</td>\n",
              "      <td>0</td>\n",
              "      <td>1</td>\n",
              "      <td>1</td>\n",
              "      <td>True</td>\n",
              "      <td>1</td>\n",
              "    </tr>\n",
              "    <tr>\n",
              "      <th>4</th>\n",
              "      <td>2</td>\n",
              "      <td>0002ae2d_2286850331484848</td>\n",
              "      <td>1</td>\n",
              "      <td>2</td>\n",
              "      <td>1</td>\n",
              "      <td>True</td>\n",
              "      <td>1</td>\n",
              "    </tr>\n",
              "    <tr>\n",
              "      <th>...</th>\n",
              "      <td>...</td>\n",
              "      <td>...</td>\n",
              "      <td>...</td>\n",
              "      <td>...</td>\n",
              "      <td>...</td>\n",
              "      <td>...</td>\n",
              "      <td>...</td>\n",
              "    </tr>\n",
              "    <tr>\n",
              "      <th>230470</th>\n",
              "      <td>1</td>\n",
              "      <td>NA_9906217589049584</td>\n",
              "      <td>0</td>\n",
              "      <td>3</td>\n",
              "      <td>3</td>\n",
              "      <td>True</td>\n",
              "      <td>169</td>\n",
              "    </tr>\n",
              "    <tr>\n",
              "      <th>230471</th>\n",
              "      <td>2</td>\n",
              "      <td>NA_991789531797033</td>\n",
              "      <td>1</td>\n",
              "      <td>1</td>\n",
              "      <td>3</td>\n",
              "      <td>False</td>\n",
              "      <td>169</td>\n",
              "    </tr>\n",
              "    <tr>\n",
              "      <th>230472</th>\n",
              "      <td>1</td>\n",
              "      <td>NA_9957209681632944</td>\n",
              "      <td>1</td>\n",
              "      <td>1</td>\n",
              "      <td>1</td>\n",
              "      <td>True</td>\n",
              "      <td>169</td>\n",
              "    </tr>\n",
              "    <tr>\n",
              "      <th>230473</th>\n",
              "      <td>2</td>\n",
              "      <td>NA_9957209681632944</td>\n",
              "      <td>0</td>\n",
              "      <td>2</td>\n",
              "      <td>1</td>\n",
              "      <td>True</td>\n",
              "      <td>169</td>\n",
              "    </tr>\n",
              "    <tr>\n",
              "      <th>230474</th>\n",
              "      <td>1</td>\n",
              "      <td>NA_9970976610534184</td>\n",
              "      <td>1</td>\n",
              "      <td>1</td>\n",
              "      <td>1</td>\n",
              "      <td>False</td>\n",
              "      <td>169</td>\n",
              "    </tr>\n",
              "  </tbody>\n",
              "</table>\n",
              "<p>230475 rows × 7 columns</p>\n",
              "</div>"
            ],
            "text/plain": [
              "        Scenario                     UserID  ...  seenOther  country_code\n",
              "0              0  0000dc12_9518522259818270  ...       True             0\n",
              "1              1  0000dc12_9518522259818270  ...       True             0\n",
              "2              2  0000dc12_9518522259818270  ...       True             0\n",
              "3              1  0002ae2d_2286850331484848  ...       True             1\n",
              "4              2  0002ae2d_2286850331484848  ...       True             1\n",
              "...          ...                        ...  ...        ...           ...\n",
              "230470         1        NA_9906217589049584  ...       True           169\n",
              "230471         2         NA_991789531797033  ...      False           169\n",
              "230472         1        NA_9957209681632944  ...       True           169\n",
              "230473         2        NA_9957209681632944  ...       True           169\n",
              "230474         1        NA_9970976610534184  ...      False           169\n",
              "\n",
              "[230475 rows x 7 columns]"
            ]
          },
          "metadata": {
            "tags": []
          },
          "execution_count": 64
        }
      ]
    },
    {
      "cell_type": "code",
      "metadata": {
        "id": "H0N3HQkv_ee0"
      },
      "source": [
        "filtered['country_code'] = filtered['country_code'].astype(int)"
      ],
      "execution_count": 68,
      "outputs": []
    },
    {
      "cell_type": "code",
      "metadata": {
        "id": "vm0NARn3yBNg",
        "outputId": "3660fded-efd2-40f5-aca3-dd359075219b",
        "colab": {
          "base_uri": "https://localhost:8080/"
        }
      },
      "source": [
        "filtered.info()"
      ],
      "execution_count": 69,
      "outputs": [
        {
          "output_type": "stream",
          "text": [
            "<class 'pandas.core.frame.DataFrame'>\n",
            "RangeIndex: 230475 entries, 0 to 230474\n",
            "Data columns (total 7 columns):\n",
            " #   Column          Non-Null Count   Dtype \n",
            "---  ------          --------------   ----- \n",
            " 0   Scenario        230475 non-null  int64 \n",
            " 1   UserID          230475 non-null  object\n",
            " 2   Outcome         230475 non-null  int64 \n",
            " 3   Scenario_order  230475 non-null  int64 \n",
            " 4   lang            230475 non-null  int64 \n",
            " 5   seenOther       230475 non-null  bool  \n",
            " 6   country_code    230475 non-null  int64 \n",
            "dtypes: bool(1), int64(5), object(1)\n",
            "memory usage: 10.8+ MB\n"
          ],
          "name": "stdout"
        }
      ]
    },
    {
      "cell_type": "code",
      "metadata": {
        "id": "zEpYHsu_yXK3"
      },
      "source": [
        "def create_dataset(X):\r\n",
        "  Xs = X.drop([\"UserID\",\"Outcome\"],axis = 1)\r\n",
        "  Ys = X.drop([\"Scenario\",\"UserID\",\"Scenario_order\",\"lang\",\"seenOther\",\"country_code\"],axis=1)\r\n",
        "  return np.array(Xs),np.array(Ys)"
      ],
      "execution_count": 71,
      "outputs": []
    },
    {
      "cell_type": "code",
      "metadata": {
        "id": "bwkZ4piry95T"
      },
      "source": [
        "interval = int(len(filtered.index)/3)\r\n",
        "x_train, y_train = create_dataset(filtered.head(interval))\r\n",
        "x_test, y_test = create_dataset(filtered.tail(interval))\r\n",
        "x_val, y_val = create_dataset(filtered.loc[interval:interval*2])"
      ],
      "execution_count": 72,
      "outputs": []
    },
    {
      "cell_type": "markdown",
      "metadata": {
        "id": "IeJHX5VJ1P32"
      },
      "source": [
        "# **Neural Network**"
      ]
    },
    {
      "cell_type": "code",
      "metadata": {
        "id": "L3_DTObO1gvC",
        "outputId": "587f131e-ca43-4e27-8703-003251e2ecc7",
        "colab": {
          "base_uri": "https://localhost:8080/"
        }
      },
      "source": [
        "from keras.models import Sequential\r\n",
        "from keras import layers\r\n",
        "from keras.layers import LSTM, Dense\r\n",
        "from keras.optimizers import RMSprop,SGD\r\n",
        "from tensorflow import keras\r\n",
        "from keras import optimizers\r\n",
        "import tensorflow as tf\r\n",
        "\r\n",
        "\r\n",
        "model = Sequential()\r\n",
        "model.add(Dense(60, input_dim=5, activation='relu'))\r\n",
        "model.add(Dense(60, activation='relu'))\r\n",
        "model.add(Dense(1, activation='sigmoid'))\r\n",
        "model.compile(loss='binary_crossentropy', optimizer='adam', metrics=['accuracy'])\r\n",
        "history = model.fit(x_train,y_train,epochs=30,validation_data=(x_val,y_val))"
      ],
      "execution_count": 74,
      "outputs": [
        {
          "output_type": "stream",
          "text": [
            "Train on 76825 samples, validate on 76826 samples\n",
            "Epoch 1/30\n",
            "76825/76825 [==============================] - 6s 73us/step - loss: 0.5957 - accuracy: 0.6971 - val_loss: 0.6141 - val_accuracy: 0.6992\n",
            "Epoch 2/30\n",
            "76825/76825 [==============================] - 6s 73us/step - loss: 0.5830 - accuracy: 0.7005 - val_loss: 0.5798 - val_accuracy: 0.7020\n",
            "Epoch 3/30\n",
            "76825/76825 [==============================] - 6s 74us/step - loss: 0.5803 - accuracy: 0.6997 - val_loss: 0.5830 - val_accuracy: 0.7012\n",
            "Epoch 4/30\n",
            "76825/76825 [==============================] - 6s 73us/step - loss: 0.5792 - accuracy: 0.7015 - val_loss: 0.5806 - val_accuracy: 0.7005\n",
            "Epoch 5/30\n",
            "76825/76825 [==============================] - 5s 71us/step - loss: 0.5785 - accuracy: 0.7020 - val_loss: 0.5843 - val_accuracy: 0.6994\n",
            "Epoch 6/30\n",
            "76825/76825 [==============================] - 5s 71us/step - loss: 0.5782 - accuracy: 0.7013 - val_loss: 0.5796 - val_accuracy: 0.7014\n",
            "Epoch 7/30\n",
            "76825/76825 [==============================] - 6s 72us/step - loss: 0.5778 - accuracy: 0.7025 - val_loss: 0.5791 - val_accuracy: 0.7023\n",
            "Epoch 8/30\n",
            "76825/76825 [==============================] - 6s 74us/step - loss: 0.5776 - accuracy: 0.7023 - val_loss: 0.5785 - val_accuracy: 0.7000\n",
            "Epoch 9/30\n",
            "76825/76825 [==============================] - 5s 70us/step - loss: 0.5773 - accuracy: 0.7025 - val_loss: 0.5832 - val_accuracy: 0.7009\n",
            "Epoch 10/30\n",
            "76825/76825 [==============================] - 6s 74us/step - loss: 0.5771 - accuracy: 0.7024 - val_loss: 0.5818 - val_accuracy: 0.7013\n",
            "Epoch 11/30\n",
            "76825/76825 [==============================] - 6s 72us/step - loss: 0.5771 - accuracy: 0.7031 - val_loss: 0.5781 - val_accuracy: 0.7011\n",
            "Epoch 12/30\n",
            "76825/76825 [==============================] - 5s 71us/step - loss: 0.5772 - accuracy: 0.7029 - val_loss: 0.5797 - val_accuracy: 0.7010\n",
            "Epoch 13/30\n",
            "76825/76825 [==============================] - 5s 70us/step - loss: 0.5771 - accuracy: 0.7028 - val_loss: 0.5777 - val_accuracy: 0.7020\n",
            "Epoch 14/30\n",
            "76825/76825 [==============================] - 6s 74us/step - loss: 0.5767 - accuracy: 0.7023 - val_loss: 0.5789 - val_accuracy: 0.6994\n",
            "Epoch 15/30\n",
            "76825/76825 [==============================] - 5s 71us/step - loss: 0.5767 - accuracy: 0.7027 - val_loss: 0.5776 - val_accuracy: 0.7011\n",
            "Epoch 16/30\n",
            "76825/76825 [==============================] - 5s 70us/step - loss: 0.5765 - accuracy: 0.7025 - val_loss: 0.5811 - val_accuracy: 0.7007\n",
            "Epoch 17/30\n",
            "76825/76825 [==============================] - 5s 71us/step - loss: 0.5767 - accuracy: 0.7022 - val_loss: 0.5777 - val_accuracy: 0.7020\n",
            "Epoch 18/30\n",
            "76825/76825 [==============================] - 6s 74us/step - loss: 0.5765 - accuracy: 0.7030 - val_loss: 0.5775 - val_accuracy: 0.7026\n",
            "Epoch 19/30\n",
            "76825/76825 [==============================] - 6s 72us/step - loss: 0.5765 - accuracy: 0.7031 - val_loss: 0.5775 - val_accuracy: 0.7007\n",
            "Epoch 20/30\n",
            "76825/76825 [==============================] - 6s 72us/step - loss: 0.5764 - accuracy: 0.7029 - val_loss: 0.5776 - val_accuracy: 0.7021\n",
            "Epoch 21/30\n",
            "76825/76825 [==============================] - 6s 72us/step - loss: 0.5764 - accuracy: 0.7027 - val_loss: 0.5779 - val_accuracy: 0.7004\n",
            "Epoch 22/30\n",
            "76825/76825 [==============================] - 6s 73us/step - loss: 0.5765 - accuracy: 0.7024 - val_loss: 0.5777 - val_accuracy: 0.7011\n",
            "Epoch 23/30\n",
            "76825/76825 [==============================] - 6s 73us/step - loss: 0.5763 - accuracy: 0.7034 - val_loss: 0.5775 - val_accuracy: 0.7018\n",
            "Epoch 24/30\n",
            "76825/76825 [==============================] - 6s 72us/step - loss: 0.5763 - accuracy: 0.7031 - val_loss: 0.5778 - val_accuracy: 0.7002\n",
            "Epoch 25/30\n",
            "76825/76825 [==============================] - 6s 73us/step - loss: 0.5762 - accuracy: 0.7034 - val_loss: 0.5776 - val_accuracy: 0.7005\n",
            "Epoch 26/30\n",
            "76825/76825 [==============================] - 6s 73us/step - loss: 0.5762 - accuracy: 0.7029 - val_loss: 0.5780 - val_accuracy: 0.7012\n",
            "Epoch 27/30\n",
            "76825/76825 [==============================] - 5s 70us/step - loss: 0.5761 - accuracy: 0.7027 - val_loss: 0.5798 - val_accuracy: 0.7018\n",
            "Epoch 28/30\n",
            "76825/76825 [==============================] - 6s 72us/step - loss: 0.5763 - accuracy: 0.7025 - val_loss: 0.5777 - val_accuracy: 0.7009\n",
            "Epoch 29/30\n",
            "76825/76825 [==============================] - 6s 74us/step - loss: 0.5762 - accuracy: 0.7034 - val_loss: 0.5789 - val_accuracy: 0.6997\n",
            "Epoch 30/30\n",
            "76825/76825 [==============================] - 5s 71us/step - loss: 0.5760 - accuracy: 0.7032 - val_loss: 0.5823 - val_accuracy: 0.6996\n"
          ],
          "name": "stdout"
        }
      ]
    },
    {
      "cell_type": "code",
      "metadata": {
        "id": "CjJY4Mil3f_C",
        "outputId": "bff17982-dc75-4261-e33f-5d725b92aa4d",
        "colab": {
          "base_uri": "https://localhost:8080/"
        }
      },
      "source": [
        "filtered.groupby([\"lang\"]).size()"
      ],
      "execution_count": 31,
      "outputs": [
        {
          "output_type": "execute_result",
          "data": {
            "text/plain": [
              "lang\n",
              "ar       304\n",
              "de     17292\n",
              "en    139896\n",
              "es     10356\n",
              "fr     23045\n",
              "ja       729\n",
              "kr       670\n",
              "pt     14760\n",
              "ru     14608\n",
              "zh      8815\n",
              "dtype: int64"
            ]
          },
          "metadata": {
            "tags": []
          },
          "execution_count": 31
        }
      ]
    },
    {
      "cell_type": "code",
      "metadata": {
        "id": "GTva_se55ueX",
        "outputId": "614b3de3-7ffe-4600-e56d-86c7e26ccf0c",
        "colab": {
          "base_uri": "https://localhost:8080/"
        }
      },
      "source": [
        "filtered.groupby([\"country_code\"]).size()"
      ],
      "execution_count": 33,
      "outputs": [
        {
          "output_type": "execute_result",
          "data": {
            "text/plain": [
              "country_code\n",
              "-      269\n",
              "AD      32\n",
              "AE     324\n",
              "AF      12\n",
              "AL      15\n",
              "      ... \n",
              "VI       3\n",
              "VN    1337\n",
              "YT       9\n",
              "ZA     438\n",
              "ZM       6\n",
              "Length: 169, dtype: int64"
            ]
          },
          "metadata": {
            "tags": []
          },
          "execution_count": 33
        }
      ]
    }
  ]
}