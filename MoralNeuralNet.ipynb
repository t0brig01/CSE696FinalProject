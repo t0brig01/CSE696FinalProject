{
  "nbformat": 4,
  "nbformat_minor": 0,
  "metadata": {
    "colab": {
      "name": "MoralNeuralNet.ipynb",
      "provenance": [],
      "authorship_tag": "ABX9TyNA5SpNBEjCH3lgpnbcLvce",
      "include_colab_link": true
    },
    "kernelspec": {
      "name": "python3",
      "display_name": "Python 3"
    }
  },
  "cells": [
    {
      "cell_type": "markdown",
      "metadata": {
        "id": "view-in-github",
        "colab_type": "text"
      },
      "source": [
        "<a href=\"https://colab.research.google.com/github/t0brig01/CSE696FinalProject/blob/main/MoralNeuralNet.ipynb\" target=\"_parent\"><img src=\"https://colab.research.google.com/assets/colab-badge.svg\" alt=\"Open In Colab\"/></a>"
      ]
    },
    {
      "cell_type": "code",
      "metadata": {
        "colab": {
          "base_uri": "https://localhost:8080/"
        },
        "id": "8zrLBI6pAHL1",
        "outputId": "b82d401a-a8be-4b42-9f3a-18999c1dd22b"
      },
      "source": [
        "%tensorflow_version 1.x\r\n",
        "import tensorflow as tf\r\n",
        "import numpy as np\r\n",
        "import pandas as pd\r\n",
        "from pandas import concat\r\n",
        "from sklearn import preprocessing\r\n",
        "print (\"TensorFlow version: \" + tf.__version__)\r\n",
        "from sklearn.model_selection import train_test_split\r\n",
        "from sklearn.preprocessing import LabelEncoder\r\n",
        "from sklearn.preprocessing import StandardScaler\r\n",
        "from sklearn.pipeline import Pipeline\r\n",
        "from keras.wrappers.scikit_learn import KerasClassifier\r\n",
        "from sklearn.model_selection import StratifiedKFold\r\n",
        "from sklearn.model_selection import cross_val_score"
      ],
      "execution_count": 55,
      "outputs": [
        {
          "output_type": "stream",
          "text": [
            "TensorFlow version: 1.15.2\n"
          ],
          "name": "stdout"
        }
      ]
    },
    {
      "cell_type": "markdown",
      "metadata": {
        "id": "DZVH15Vu1R88"
      },
      "source": [
        "# **Data Loading/Manipulation**"
      ]
    },
    {
      "cell_type": "code",
      "metadata": {
        "id": "9yfK1H0OvFez"
      },
      "source": [
        "df = pd.read_csv(\"https://raw.githubusercontent.com/t0brig01/CSE696FinalProject/main/TrolleyData.csv\")"
      ],
      "execution_count": 14,
      "outputs": []
    },
    {
      "cell_type": "code",
      "metadata": {
        "id": "SnZjiIHOveFM",
        "colab": {
          "base_uri": "https://localhost:8080/"
        },
        "outputId": "b4bf3771-97c8-4400-8326-ae12f1ca8202"
      },
      "source": [
        "df.info()"
      ],
      "execution_count": 15,
      "outputs": [
        {
          "output_type": "stream",
          "text": [
            "<class 'pandas.core.frame.DataFrame'>\n",
            "RangeIndex: 230475 entries, 0 to 230474\n",
            "Data columns (total 12 columns):\n",
            " #   Column          Non-Null Count   Dtype \n",
            "---  ------          --------------   ----- \n",
            " 0   _id             230475 non-null  object\n",
            " 1   Scenario        230475 non-null  object\n",
            " 2   UserID          230475 non-null  object\n",
            " 3   Outcome         230475 non-null  int64 \n",
            " 4   Session_id      230475 non-null  object\n",
            " 5   Scenario_order  230475 non-null  int64 \n",
            " 6   Template        230475 non-null  object\n",
            " 7   answerLeft      230475 non-null  bool  \n",
            " 8   lang            230475 non-null  object\n",
            " 9   seenOther       230475 non-null  bool  \n",
            " 10  country_code    229259 non-null  object\n",
            " 11  country_full    229259 non-null  object\n",
            "dtypes: bool(2), int64(2), object(8)\n",
            "memory usage: 18.0+ MB\n"
          ],
          "name": "stdout"
        }
      ]
    },
    {
      "cell_type": "code",
      "metadata": {
        "id": "8WgRLKBDvfEG",
        "colab": {
          "base_uri": "https://localhost:8080/",
          "height": 203
        },
        "outputId": "14fcea99-31c6-4376-9888-bdd3362cfd95"
      },
      "source": [
        "df.head()"
      ],
      "execution_count": 16,
      "outputs": [
        {
          "output_type": "execute_result",
          "data": {
            "text/html": [
              "<div>\n",
              "<style scoped>\n",
              "    .dataframe tbody tr th:only-of-type {\n",
              "        vertical-align: middle;\n",
              "    }\n",
              "\n",
              "    .dataframe tbody tr th {\n",
              "        vertical-align: top;\n",
              "    }\n",
              "\n",
              "    .dataframe thead th {\n",
              "        text-align: right;\n",
              "    }\n",
              "</style>\n",
              "<table border=\"1\" class=\"dataframe\">\n",
              "  <thead>\n",
              "    <tr style=\"text-align: right;\">\n",
              "      <th></th>\n",
              "      <th>_id</th>\n",
              "      <th>Scenario</th>\n",
              "      <th>UserID</th>\n",
              "      <th>Outcome</th>\n",
              "      <th>Session_id</th>\n",
              "      <th>Scenario_order</th>\n",
              "      <th>Template</th>\n",
              "      <th>answerLeft</th>\n",
              "      <th>lang</th>\n",
              "      <th>seenOther</th>\n",
              "      <th>country_code</th>\n",
              "      <th>country_full</th>\n",
              "    </tr>\n",
              "  </thead>\n",
              "  <tbody>\n",
              "    <tr>\n",
              "      <th>0</th>\n",
              "      <td>C3RGCjGPftjMKYHy2</td>\n",
              "      <td>Loop</td>\n",
              "      <td>0000dc12_9518522259818270</td>\n",
              "      <td>1</td>\n",
              "      <td>367585191-9.51852225982e+15</td>\n",
              "      <td>1</td>\n",
              "      <td>Desktop</td>\n",
              "      <td>False</td>\n",
              "      <td>de</td>\n",
              "      <td>True</td>\n",
              "      <td>DE</td>\n",
              "      <td>Germany</td>\n",
              "    </tr>\n",
              "    <tr>\n",
              "      <th>1</th>\n",
              "      <td>3F9SfDyofskDPna8R</td>\n",
              "      <td>Footbridge</td>\n",
              "      <td>0000dc12_9518522259818270</td>\n",
              "      <td>0</td>\n",
              "      <td>367585191-9.51852225982e+15</td>\n",
              "      <td>2</td>\n",
              "      <td>Desktop</td>\n",
              "      <td>False</td>\n",
              "      <td>de</td>\n",
              "      <td>True</td>\n",
              "      <td>DE</td>\n",
              "      <td>Germany</td>\n",
              "    </tr>\n",
              "    <tr>\n",
              "      <th>2</th>\n",
              "      <td>oz9anPbE6e52TKuJy</td>\n",
              "      <td>Switch</td>\n",
              "      <td>0000dc12_9518522259818270</td>\n",
              "      <td>1</td>\n",
              "      <td>367585191-9.51852225982e+15</td>\n",
              "      <td>3</td>\n",
              "      <td>Desktop</td>\n",
              "      <td>False</td>\n",
              "      <td>de</td>\n",
              "      <td>True</td>\n",
              "      <td>DE</td>\n",
              "      <td>Germany</td>\n",
              "    </tr>\n",
              "    <tr>\n",
              "      <th>3</th>\n",
              "      <td>dkAhBaLhzi62Pp6Hp</td>\n",
              "      <td>Footbridge</td>\n",
              "      <td>0002ae2d_2286850331484848</td>\n",
              "      <td>0</td>\n",
              "      <td>1654499857-2.28685033148e+15</td>\n",
              "      <td>1</td>\n",
              "      <td>Desktop</td>\n",
              "      <td>False</td>\n",
              "      <td>en</td>\n",
              "      <td>True</td>\n",
              "      <td>GB</td>\n",
              "      <td>United Kingdom</td>\n",
              "    </tr>\n",
              "    <tr>\n",
              "      <th>4</th>\n",
              "      <td>2ussgtw7vCZMNjxSJ</td>\n",
              "      <td>Switch</td>\n",
              "      <td>0002ae2d_2286850331484848</td>\n",
              "      <td>1</td>\n",
              "      <td>1654499857-2.28685033148e+15</td>\n",
              "      <td>2</td>\n",
              "      <td>Desktop</td>\n",
              "      <td>False</td>\n",
              "      <td>en</td>\n",
              "      <td>True</td>\n",
              "      <td>GB</td>\n",
              "      <td>United Kingdom</td>\n",
              "    </tr>\n",
              "  </tbody>\n",
              "</table>\n",
              "</div>"
            ],
            "text/plain": [
              "                 _id    Scenario  ... country_code    country_full\n",
              "0  C3RGCjGPftjMKYHy2        Loop  ...           DE         Germany\n",
              "1  3F9SfDyofskDPna8R  Footbridge  ...           DE         Germany\n",
              "2  oz9anPbE6e52TKuJy      Switch  ...           DE         Germany\n",
              "3  dkAhBaLhzi62Pp6Hp  Footbridge  ...           GB  United Kingdom\n",
              "4  2ussgtw7vCZMNjxSJ      Switch  ...           GB  United Kingdom\n",
              "\n",
              "[5 rows x 12 columns]"
            ]
          },
          "metadata": {
            "tags": []
          },
          "execution_count": 16
        }
      ]
    },
    {
      "cell_type": "code",
      "metadata": {
        "id": "9FviDtwHvwBn"
      },
      "source": [
        "filtered = df.drop(['Session_id','Template','country_full','_id','answerLeft'], axis=1)\r\n",
        "filtered.dropna()\r\n",
        "filtered.replace('Loop',0,inplace=True)   #0 is loop trolley \r\n",
        "filtered.replace('Footbridge',1,inplace=True) #1 is footbridge trolley\r\n",
        "filtered.replace('Switch',2,inplace=True) #2 is standard trolley\r\n",
        "\r\n",
        "lang = dict()\r\n",
        "country = dict()\r\n",
        "iLang = 0\r\n",
        "iCountry = 0\r\n",
        "for index, x in filtered.iterrows():\r\n",
        "  if x[\"lang\"] not in lang.keys():\r\n",
        "    lang[x[\"lang\"]] = iLang\r\n",
        "    iLang = iLang + 1\r\n",
        "  if x[\"country_code\"] not in country.keys():\r\n",
        "    country[x[\"country_code\"]] = iCountry\r\n",
        "    iCountry = iCountry + 1\r\n",
        "for key, value in country.items():\r\n",
        "  filtered.replace(key,int(value),inplace=True)\r\n",
        "for key, value in lang.items():\r\n",
        "  filtered.replace(key,int(value),inplace=True)"
      ],
      "execution_count": 17,
      "outputs": []
    },
    {
      "cell_type": "code",
      "metadata": {
        "id": "H0N3HQkv_ee0"
      },
      "source": [
        "filtered['country_code'] = filtered['country_code'].astype(int)"
      ],
      "execution_count": 18,
      "outputs": []
    },
    {
      "cell_type": "code",
      "metadata": {
        "id": "vm0NARn3yBNg",
        "colab": {
          "base_uri": "https://localhost:8080/"
        },
        "outputId": "cb88098e-9ae9-48bd-8263-d78836447575"
      },
      "source": [
        "filtered.info()"
      ],
      "execution_count": 19,
      "outputs": [
        {
          "output_type": "stream",
          "text": [
            "<class 'pandas.core.frame.DataFrame'>\n",
            "RangeIndex: 230475 entries, 0 to 230474\n",
            "Data columns (total 7 columns):\n",
            " #   Column          Non-Null Count   Dtype \n",
            "---  ------          --------------   ----- \n",
            " 0   Scenario        230475 non-null  int64 \n",
            " 1   UserID          230475 non-null  object\n",
            " 2   Outcome         230475 non-null  int64 \n",
            " 3   Scenario_order  230475 non-null  int64 \n",
            " 4   lang            230475 non-null  int64 \n",
            " 5   seenOther       230475 non-null  bool  \n",
            " 6   country_code    230475 non-null  int64 \n",
            "dtypes: bool(1), int64(5), object(1)\n",
            "memory usage: 10.8+ MB\n"
          ],
          "name": "stdout"
        }
      ]
    },
    {
      "cell_type": "code",
      "metadata": {
        "id": "zEpYHsu_yXK3"
      },
      "source": [
        "def create_dataset(X):\r\n",
        "  Xs = X.drop([\"UserID\",\"Outcome\",\"lang\"],axis = 1)\r\n",
        "  Ys = X.drop([\"Scenario\",\"UserID\",\"Scenario_order\",\"lang\",\"seenOther\",\"country_code\"],axis=1)\r\n",
        "  encoder = LabelEncoder()\r\n",
        "  encoder.fit(Ys)\r\n",
        "  encoded_Ys = encoder.transform(Ys)\r\n",
        "  return np.array(Xs),np.array(encoded_Ys)"
      ],
      "execution_count": 48,
      "outputs": []
    },
    {
      "cell_type": "code",
      "metadata": {
        "id": "bwkZ4piry95T",
        "outputId": "635bdecb-45ed-437f-8064-da9ff1544838",
        "colab": {
          "base_uri": "https://localhost:8080/"
        }
      },
      "source": [
        "interval = int(len(filtered.index)/3)\r\n",
        "x_train, y_train = create_dataset(filtered.head(interval))\r\n",
        "x_test, y_test = create_dataset(filtered.tail(interval))\r\n",
        "x_val, y_val = create_dataset(filtered.loc[interval:interval*2])"
      ],
      "execution_count": 51,
      "outputs": [
        {
          "output_type": "stream",
          "text": [
            "/usr/local/lib/python3.6/dist-packages/sklearn/preprocessing/_label.py:235: DataConversionWarning: A column-vector y was passed when a 1d array was expected. Please change the shape of y to (n_samples, ), for example using ravel().\n",
            "  y = column_or_1d(y, warn=True)\n",
            "/usr/local/lib/python3.6/dist-packages/sklearn/preprocessing/_label.py:268: DataConversionWarning: A column-vector y was passed when a 1d array was expected. Please change the shape of y to (n_samples, ), for example using ravel().\n",
            "  y = column_or_1d(y, warn=True)\n"
          ],
          "name": "stderr"
        }
      ]
    },
    {
      "cell_type": "markdown",
      "metadata": {
        "id": "IeJHX5VJ1P32"
      },
      "source": [
        "# **Neural Network**"
      ]
    },
    {
      "cell_type": "code",
      "metadata": {
        "id": "L3_DTObO1gvC"
      },
      "source": [
        "from keras.models import Sequential\r\n",
        "from keras import layers\r\n",
        "from keras.layers import LSTM, Dense\r\n",
        "from keras.optimizers import RMSprop,SGD\r\n",
        "from tensorflow import keras\r\n",
        "from keras import optimizers\r\n",
        "import tensorflow as tf\r\n",
        "\r\n",
        "def create_model():\r\n",
        "  model = Sequential()\r\n",
        "  model.add(Dense(8, input_dim=4, kernel_initializer='normal',activation='relu'))\r\n",
        "  model.add(Dense(4, activation='relu',kernel_initializer='normal'))\r\n",
        "  model.add(Dense(1, activation='sigmoid'))\r\n",
        "  model.compile(loss='binary_crossentropy', optimizer='adam', metrics=['accuracy'])\r\n",
        "  return model\r\n",
        "  # history = model.fit(x_train,y_train,epochs=10, validation_data=(x_val,y_val),batch_size=16)"
      ],
      "execution_count": 58,
      "outputs": []
    },
    {
      "cell_type": "code",
      "metadata": {
        "id": "1w5EhPCp6FGm"
      },
      "source": [
        "estimators = []\r\n",
        "estimators.append(('standardize', StandardScaler()))\r\n",
        "estimators.append(('mlp', KerasClassifier(build_fn=create_model, epochs=10, batch_size=5, verbose=0)))\r\n",
        "pipeline = Pipeline(estimators)\r\n",
        "kfold = StratifiedKFold(n_splits=4, shuffle=True)\r\n",
        "results = cross_val_score(pipeline, x_train, y_train, cv=kfold)\r\n",
        "print(\"Results: %.2f%% (%.2f%%)\" % (results.mean()*100, results.std()*100))"
      ],
      "execution_count": null,
      "outputs": []
    },
    {
      "cell_type": "code",
      "metadata": {
        "id": "V89Ylk9L20S2"
      },
      "source": [
        "loss, acc = model.evaluate(x_test, y_test, verbose=0)"
      ],
      "execution_count": 44,
      "outputs": []
    },
    {
      "cell_type": "code",
      "metadata": {
        "id": "UoPg2ZR04ex2",
        "outputId": "0fccd6ba-02c7-4202-95aa-750ca8325504",
        "colab": {
          "base_uri": "https://localhost:8080/"
        }
      },
      "source": [
        "print(loss)\r\n",
        "print(acc)"
      ],
      "execution_count": 46,
      "outputs": [
        {
          "output_type": "stream",
          "text": [
            "0.5792068801646197\n",
            "0.7015684843063354\n"
          ],
          "name": "stdout"
        }
      ]
    }
  ]
}